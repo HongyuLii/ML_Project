{
 "cells": [
  {
   "cell_type": "code",
   "execution_count": 15,
   "metadata": {},
   "outputs": [
    {
     "name": "stdout",
     "output_type": "stream",
     "text": [
      "[[2.11000000e+02 7.80041000e-01 1.08148000e+00 ... 0.00000000e+00\n",
      "  4.26001558e-02 5.22500829e-02]\n",
      " [2.11000000e+02 2.60929000e-01 7.78892000e-01 ... 0.00000000e+00\n",
      "  4.26001558e-02 5.22500829e-02]\n",
      " [2.21200000e+03 7.73022000e-01 1.85953000e-01 ... 4.00000000e+00\n",
      "  1.01900000e-01 5.22500829e-02]\n",
      " ...\n",
      " [2.11000000e+02 8.27497000e-01 6.89746000e-01 ... 0.00000000e+00\n",
      "  4.26001558e-02 5.22500829e-02]\n",
      " [2.21200000e+03 1.33120000e+00 3.82746000e-01 ... 0.00000000e+00\n",
      "  3.69421000e-02 5.69467000e-02]\n",
      " [2.21200000e+03 2.95689000e+00 4.49482000e-01 ... 0.00000000e+00\n",
      "  1.06844000e-01 1.65438000e-01]]\n",
      "[ -11.  211.  321. 2212.]\n",
      "[ -11.  211.  321. 2212.]\n"
     ]
    }
   ],
   "source": [
    "#!/usr/bin/env python3\n",
    "# -*- coding: utf-8 -*-\n",
    "\"\"\"\n",
    "Created on Mon Apr 13 13:57:42 2020\n",
    "@author: lihongyu\n",
    "\"\"\"\n",
    "#import the libraries\n",
    "import numpy as np #basic math\n",
    "import matplotlib.pyplot as plt #plot charts\n",
    "import pandas as pd #\n",
    "\n",
    "#import dataset\n",
    "dataset = pd.read_csv('pid-5M.csv')\n",
    "\n",
    "# A) unmodified data set\n",
    "dfA = np.array(dataset)\n",
    "\n",
    "# B) data set with all observations with zero values for inner or outer energy removed\n",
    "b = False\n",
    "if (b == True):\n",
    "    global dfB\n",
    "    dfB = dfA\n",
    "    temp = dfB[:,5] != 0\n",
    "    dfB = dfB[temp]\n",
    "    temp = dfB[:,6] != 0\n",
    "    dfB = dfB[temp]\n",
    "\n",
    "# C) data set with outer and inner energy features removed\n",
    "c = False\n",
    "if (c == True):\n",
    "    global dfC\n",
    "    dfC = dfA[:,0:4]\n",
    "\n",
    "# D) data set with zero values for outer and inner energy replaced with label averages for inner and outer energy\n",
    "\n",
    "d = True\n",
    "if (d == True):\n",
    "    global dfD\n",
    "    dfD = dfA\n",
    "    labels = [211., 321., -11., 2212.]\n",
    "    for label in labels:\n",
    "        is_label = dfD == label\n",
    "        label_features = dfD[is_label[:,0],5:7]\n",
    "        label_averages = np.sum(label_features, axis=0)/label_features.shape[0]\n",
    "        dfD[np.where(dfD[:,5]==0),5]=label_averages[0]\n",
    "        dfD[np.where(dfD[:,6]==0),6]=label_averages[1]\n",
    "\n",
    "\n",
    "X = dataset.iloc[:, 1:8].values # the features\n",
    "y = dataset.iloc[:, 0].values # the dependent variable\n",
    "\n",
    "# temp = dfA[:,0] != -11\n",
    "# dfA = dfA[temp]\n",
    "# temp = dfA[:,0] != 2212\n",
    "# dfA = dfA[temp]\n",
    "# temp = dfA[:,0] != 211\n",
    "# dfA = dfA[temp]\n",
    "\n",
    "\n",
    "X = dfD[:, 1:8] # the features\n",
    "y = dfD[:, 0] # the dependent variable\n",
    "\n",
    "#Splitting the dataset into Training set and Test set\n",
    "from sklearn.model_selection import train_test_split\n",
    "X_train, X_test, y_train, y_test = train_test_split(X, y, test_size = 0.25, random_state = 0)\n",
    "\n",
    "\n",
    "y_test_array = np.array(y_train)\n",
    "y_test_number = np.unique(y_test_array)\n",
    "print(y_test_number)\n",
    "y_test_array = np.array(y_test)\n",
    "y_test_number = np.unique(y_test_array)\n",
    "print(y_test_number)"
   ]
  },
  {
   "cell_type": "code",
   "execution_count": 22,
   "metadata": {},
   "outputs": [
    {
     "name": "stderr",
     "output_type": "stream",
     "text": [
      "/opt/anaconda3/lib/python3.7/site-packages/sklearn/linear_model/sag.py:337: ConvergenceWarning: The max_iter was reached which means the coef_ did not converge\n",
      "  \"the coef_ did not converge\", ConvergenceWarning)\n"
     ]
    },
    {
     "name": "stdout",
     "output_type": "stream",
     "text": [
      "[ -11.  211. 2212.]\n",
      "Accuracy from Logistic Regression is: \n",
      "0.930912\n"
     ]
    }
   ],
   "source": [
    "#Logistic Regression\n",
    "#Ftting Logistic Regression to the Training set\n",
    "from sklearn.linear_model import LogisticRegression\n",
    "lg_classifier = LogisticRegression(penalty='l2', solver='sag', multi_class='auto')\n",
    "lg_classifier.fit(X_train, y_train)\n",
    "\n",
    "#Predicting the Test set results\n",
    "y_pred = lg_classifier.predict(X_test)\n",
    "\n",
    "#In the prediction, there are only three classes, as we can see from the code below to print out the values in y_pred\n",
    "y_test_array = np.array(y_pred)\n",
    "y_test_number = np.unique(y_test_array)\n",
    "print(y_test_number)\n",
    "\n",
    "\n",
    "#Calculating accuracy for Logistic Regression\n",
    "from sklearn.metrics import accuracy_score\n",
    "print(\"Accuracy from Logistic Regression is: \")\n",
    "print(accuracy_score(y_test, y_pred))"
   ]
  },
  {
   "cell_type": "code",
   "execution_count": 20,
   "metadata": {},
   "outputs": [
    {
     "name": "stdout",
     "output_type": "stream",
     "text": [
      "[ -11.  211.  321. 2212.]\n",
      "Accuracy from Navie Bayes is: \n",
      "0.8513416\n"
     ]
    }
   ],
   "source": [
    "#Navie Bayes\n",
    "#Ftting Navie Bayes to the Training set\n",
    "from sklearn.naive_bayes import GaussianNB\n",
    "nb_classifier = GaussianNB()\n",
    "nb_classifier.fit(X_train, y_train)\n",
    "\n",
    "#Predicting the Test set results\n",
    "y_pred = nb_classifier.predict(X_test)\n",
    "\n",
    "#In the prediction, there are only three classes, as we can see from the code below to print out the values in y_pred\n",
    "y_test_array = np.array(y_pred)\n",
    "y_test_number = np.unique(y_test_array)\n",
    "print(y_test_number)\n",
    "\n",
    "\n",
    "#Calculating accuracy for Navie Bayes\n",
    "from sklearn.metrics import accuracy_score\n",
    "print(\"Accuracy from Navie Bayes is: \")\n",
    "print(accuracy_score(y_test, y_pred))"
   ]
  },
  {
   "cell_type": "code",
   "execution_count": null,
   "metadata": {},
   "outputs": [],
   "source": [
    "#SVM\n",
    "from sklearn.svm import LinearSVC\n",
    "svm_classifier = LinearSVC()\n",
    "svm_classifier.fit(X_train, y_train)\n",
    "\n",
    "#Predicting the Test set results\n",
    "y_pred = svm_classifier.predict(X_test)\n",
    "\n",
    "#In the prediction, there are only three classes, as we can see from the code below to print out the values in y_pred\n",
    "y_test_array = np.array(y_pred)\n",
    "y_test_number = np.unique(y_test_array)\n",
    "print(y_test_number)\n",
    "\n",
    "\n",
    "#Calculating accuracy for SVM\n",
    "from sklearn.metrics import accuracy_score\n",
    "print(\"Accuracy from SVM is: \")\n",
    "print(accuracy_score(y_test, y_pred))"
   ]
  },
  {
   "cell_type": "code",
   "execution_count": null,
   "metadata": {},
   "outputs": [],
   "source": [
    "#Neural Network\n",
    "#Ftting Neural Network to the Training set\n",
    "from sklearn.neural_network import MLPClassifier\n",
    "nn_classifier = MLPClassifier()\n",
    "nn_classifier.fit(X_train, y_train)\n",
    "\n",
    "#Predicting the Test set results\n",
    "y_pred = nn_classifier.predict(X_test)\n",
    "\n",
    "#In the prediction, there are only three classes, as we can see from the code below to print out the values in y_pred\n",
    "y_test_array = np.array(y_pred)\n",
    "y_test_number = np.unique(y_test_array)\n",
    "print(y_test_number)\n",
    "\n",
    "\n",
    "#Calculating accuracy for SVM\n",
    "from sklearn.metrics import accuracy_score\n",
    "print(\"Accuracy from Neural Network is: \")\n",
    "print(accuracy_score(y_test, y_pred))"
   ]
  }
 ],
 "metadata": {
  "kernelspec": {
   "display_name": "Python 3",
   "language": "python",
   "name": "python3"
  },
  "language_info": {
   "codemirror_mode": {
    "name": "ipython",
    "version": 3
   },
   "file_extension": ".py",
   "mimetype": "text/x-python",
   "name": "python",
   "nbconvert_exporter": "python",
   "pygments_lexer": "ipython3",
   "version": "3.7.4"
  }
 },
 "nbformat": 4,
 "nbformat_minor": 2
}
